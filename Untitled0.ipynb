{
  "nbformat": 4,
  "nbformat_minor": 0,
  "metadata": {
    "colab": {
      "provenance": [],
      "authorship_tag": "ABX9TyNiZuGA0PLB6nZsCmA4d/1a",
      "include_colab_link": true
    },
    "kernelspec": {
      "name": "python3",
      "display_name": "Python 3"
    },
    "language_info": {
      "name": "python"
    }
  },
  "cells": [
    {
      "cell_type": "markdown",
      "metadata": {
        "id": "view-in-github",
        "colab_type": "text"
      },
      "source": [
        "<a href=\"https://colab.research.google.com/github/joelomar15/CorreoJoelEspinoza/blob/main/Untitled0.ipynb\" target=\"_parent\"><img src=\"https://colab.research.google.com/assets/colab-badge.svg\" alt=\"Open In Colab\"/></a>"
      ]
    },
    {
      "cell_type": "markdown",
      "source": [
        "**PRIMER CUADERNO DE JUPYTER**"
      ],
      "metadata": {
        "id": "MpmaSTJYJy5L"
      }
    },
    {
      "cell_type": "code",
      "source": [
        "print(\"hola mundo\")"
      ],
      "metadata": {
        "colab": {
          "base_uri": "https://localhost:8080/"
        },
        "id": "cSxQuYWnJ9O2",
        "outputId": "8f8cbf92-50e6-4554-b8b5-a2aab3b6613d"
      },
      "execution_count": null,
      "outputs": [
        {
          "output_type": "stream",
          "name": "stdout",
          "text": [
            "hola mundo\n"
          ]
        }
      ]
    },
    {
      "cell_type": "markdown",
      "source": [
        "Mi primera funcion python"
      ],
      "metadata": {
        "id": "aE7ge_QFMVWB"
      }
    },
    {
      "cell_type": "code",
      "source": [
        "def suma(a,b):\n",
        "  r = a+b\n",
        "  return r\n",
        "suma(5,6)"
      ],
      "metadata": {
        "colab": {
          "base_uri": "https://localhost:8080/"
        },
        "id": "WpoD9BRdMZQ3",
        "outputId": "32ba0376-5dc9-4641-d992-607072825300"
      },
      "execution_count": null,
      "outputs": [
        {
          "output_type": "execute_result",
          "data": {
            "text/plain": [
              "11"
            ]
          },
          "metadata": {},
          "execution_count": 20
        }
      ]
    },
    {
      "cell_type": "code",
      "source": [
        "def multiplicacion(a,b):\n",
        "  return a*b\n",
        "multiplicacion(\"4\",5)\n",
        "\n"
      ],
      "metadata": {
        "colab": {
          "base_uri": "https://localhost:8080/",
          "height": 36
        },
        "id": "9sXv9OJ1No2J",
        "outputId": "f9abb885-dc4d-4e43-977a-e6380fae7b02"
      },
      "execution_count": null,
      "outputs": [
        {
          "output_type": "execute_result",
          "data": {
            "text/plain": [
              "'44444'"
            ],
            "application/vnd.google.colaboratory.intrinsic+json": {
              "type": "string"
            }
          },
          "metadata": {},
          "execution_count": 12
        }
      ]
    },
    {
      "cell_type": "code",
      "source": [
        "def mostrarContenido(lista):\n",
        "  for iterator in lista:\n",
        "    print(iterator,end=\" \")\n",
        "\n",
        "#mLista=[1,3,5,7,9,11,13,15]\n",
        "mLista=[12,\"otro dato\",[3,5,7,9],(55,23)]\n",
        "\n",
        "mostrarContenido(mLista)\n"
      ],
      "metadata": {
        "colab": {
          "base_uri": "https://localhost:8080/"
        },
        "id": "UhCIXcppOIWC",
        "outputId": "196a2f6f-b827-4cc1-a4ba-e37b3f37cfcd"
      },
      "execution_count": null,
      "outputs": [
        {
          "output_type": "stream",
          "name": "stdout",
          "text": [
            "12 otro dato [3, 5, 7, 9] (55, 23) "
          ]
        }
      ]
    },
    {
      "cell_type": "code",
      "source": [
        "def ordenar(mLista):\n",
        "  n=len(mLista)\n",
        "  for i in range(n):\n",
        "    for j in range(n-1-i):\n",
        "      if mLista[j] > mLista[j+1]:\n",
        "        mLista[j],mLista[j+1]=mLista[j+1],mLista[j]\n",
        "\n",
        "mLista = [4, 6, 2, 1, 6, 7]\n",
        "print(mLista,end=\" \")\n",
        "ordenar(mLista)\n",
        "print(mLista,end=\" \")\n",
        "\n"
      ],
      "metadata": {
        "colab": {
          "base_uri": "https://localhost:8080/"
        },
        "id": "SmB00FK-UUEP",
        "outputId": "8ee3d89a-c748-4f61-d0a0-4c9543f1ccf8"
      },
      "execution_count": null,
      "outputs": [
        {
          "output_type": "stream",
          "name": "stdout",
          "text": [
            "[4, 6, 2, 1, 6, 7] [1, 2, 4, 6, 6, 7] "
          ]
        }
      ]
    },
    {
      "cell_type": "code",
      "source": [
        "filasNum = int(input(f\"Ingrese el numero de Filas: \"))\n",
        "columnasNum = int(input(f\"Ingrese el numero de Columnas: \"))\n",
        "\n",
        "matriz = [[0 for _ in range(columnasNum)] for _ in range(filasNum)]\n",
        "for filas in range(filasNum):\n",
        "    for columnas in range(columnasNum):\n",
        "        valor = int(input(f\"Ingrese el elemento ({filas},{columnas}): \"))\n",
        "        matriz[filas][columnas]=valor\n",
        "\n",
        "\n",
        "print(\"Matriz ingresada:\")\n",
        "for fila in matriz:\n",
        "    print(fila)"
      ],
      "metadata": {
        "colab": {
          "base_uri": "https://localhost:8080/"
        },
        "id": "4HB51eVuVcHx",
        "outputId": "b636c402-999a-4af9-cfa5-63fd98e09f0a"
      },
      "execution_count": null,
      "outputs": [
        {
          "output_type": "stream",
          "name": "stdout",
          "text": [
            "Ingrese el numero de Filas: 3\n",
            "Ingrese el numero de Columnas: 3\n",
            "Ingrese el elemento (0,0): 123\n",
            "Ingrese el elemento (0,1): 456\n",
            "Ingrese el elemento (0,2): 789\n",
            "Ingrese el elemento (1,0): 1\n",
            "Ingrese el elemento (1,1): 2\n",
            "Ingrese el elemento (1,2): 3\n",
            "Ingrese el elemento (2,0): 1\n",
            "Ingrese el elemento (2,1): 2\n",
            "Ingrese el elemento (2,2): 3\n",
            "Matriz ingresada:\n",
            "[123, 456, 789]\n",
            "[1, 2, 3]\n",
            "[1, 2, 3]\n"
          ]
        }
      ]
    }
  ]
}